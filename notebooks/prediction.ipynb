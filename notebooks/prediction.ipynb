{
 "cells": [
  {
   "cell_type": "markdown",
   "metadata": {},
   "source": [
    "For the final part of my series on Love Island via data analytics I am going to do create models that aim to predict the number of days an islander is expected to stay on the show, as well as which couple is going to win. We will use the data from series 4 as our training set and apply the models to the new data from series 5 to predict outcomes. For this analysis we are going to use a polynomial regression model of order 2, this is due to wanting sure we make sure that we incorporate the interaction effect between all the features we use. One over-arching point to not is that in Series 4 a number of islanders had the same name, given we are only using first names to identify islanders in each tweet this will cause some noise within our data. In every case I focus on the most relevant islander per name and this should matter too much aside from Jack Fincham and Jack Fowler who were both impactful on the series."
   ]
  },
  {
   "cell_type": "code",
   "execution_count": 34,
   "metadata": {},
   "outputs": [],
   "source": [
    "from loveisland.common.functions import Functions as F\n",
    "from loveisland.common.constants import RESULTS_4, RESULTS_5\n",
    "\n",
    "import seaborn as sns\n",
    "from matplotlib import pyplot as plt\n",
    "import numpy as np\n",
    "import re\n",
    "import pandas as pd\n",
    "import os\n",
    "import datetime as dt\n",
    "\n",
    "from sklearn import linear_model\n",
    "from sklearn import preprocessing\n",
    "from sklearn.metrics import f1_score, accuracy_score\n",
    "\n",
    "from pandas.plotting import register_matplotlib_converters\n",
    "register_matplotlib_converters()\n",
    "\n",
    "pd.options.mode.chained_assignment = None \n",
    "\n",
    "plt.style.use(\"bmh\")"
   ]
  },
  {
   "cell_type": "code",
   "execution_count": 35,
   "metadata": {},
   "outputs": [],
   "source": [
    "class Arguments():\n",
    "    def __init__(self, season, bucket=\"../data/\"):\n",
    "        self.season = season\n",
    "        self.bucket = bucket"
   ]
  },
  {
   "cell_type": "markdown",
   "metadata": {},
   "source": [
    "### Predicting the Number of Days an Islander Lasts\n",
    "For the first part of this analysis we are going try and determine if we can predict the number of days that an islander will last for. There are various ways that islanders are \"dumped\" from the show, these include being voted off by other islanders, being voted off by the public or by not being in a couple for example, given that the public has a relatively small part to play in the process (even when voting off the contestant the incumbent islanders usually have the final say), therefore the dataset we will be using to train the model is very incomplete. "
   ]
  },
  {
   "cell_type": "code",
   "execution_count": 36,
   "metadata": {
    "scrolled": false
   },
   "outputs": [],
   "source": [
    "class AggAgg:\n",
    "    def __init__(self, args):\n",
    "        self.args = args\n",
    "        self.df = pd.read_csv(\n",
    "            os.path.join(args.bucket, \"season_\" + str(args.season), \"agg_df.csv\")\n",
    "        )\n",
    "\n",
    "    @staticmethod\n",
    "    def date_to_n_lookup(df):\n",
    "        n_list = list(range(1, df[\"dumped\"].max() + 1))\n",
    "        d_list = [(df[\"date\"].min() + dt.timedelta(days=n)).date() for n in n_list]\n",
    "        return pd.DataFrame.from_dict({\"dumped\": n_list, \"dumped_d\": d_list})\n",
    "\n",
    "    def start_end(self):\n",
    "        if self.args.season == 4:\n",
    "            sd, ed = \"2018-06-04\", \"2018-07-30\"\n",
    "        else:\n",
    "            sd, ed = \"2019-06-03\", \"2019-07-30\"\n",
    "\n",
    "        self.df = self.df[(sd <= self.df[\"date\"]) & (self.df[\"date\"] < ed)].reset_index(\n",
    "            drop=True\n",
    "        )\n",
    "        return self\n",
    "\n",
    "    def islander_agg(self):\n",
    "        self.df[\"date\"] = pd.to_datetime(self.df[\"date\"])\n",
    "        self.start_end()\n",
    "        self.df = self.df.merge(self.date_to_n_lookup(self.df), on=\"dumped\", how=\"left\")\n",
    "        self.df[\"dumped_d\"] = pd.to_datetime(self.df[\"dumped_d\"])\n",
    "        self.df = self.df[\n",
    "            (self.df[\"date\"] <= self.df[\"dumped_d\"]) | (self.df[\"dumped\"] == 0)\n",
    "        ].reset_index(drop=True)\n",
    "\n",
    "        self.df = (\n",
    "            self.df.groupby([\"islander\", \"date\"])\n",
    "            .agg({\"n_tweets\": \"sum\", \"score\": \"mean\", \"favs\": \"mean\"})\n",
    "            .reset_index()\n",
    "        )\n",
    "        self.df[\"n_tweets_perc\"] = self.df.groupby(\"date\")[\"n_tweets\"].apply(\n",
    "            lambda x: x * 100 / sum(x)\n",
    "        )\n",
    "        self.df = (\n",
    "            self.df.groupby(\"islander\")\n",
    "            .agg({\"n_tweets\": \"sum\", \"score\": \"mean\", \"n_tweets_perc\": \"mean\", \"favs\": \"mean\"})\n",
    "            .reset_index()\n",
    "        )\n",
    "\n",
    "        self.df = self.df.merge(\n",
    "            F.get_islander_df(self.args.season), on=\"islander\", how=\"left\"\n",
    "        )\n",
    "        return self\n",
    "    \n",
    "    def create_dummy(self):\n",
    "        self.df[\"male\"] = np.where(self.df[\"sex\"] == \"male\", 1, 0)\n",
    "        return self\n",
    "\n",
    "    def create_days(self):\n",
    "        self.df[\"n_days\"] = np.where(\n",
    "            self.df[\"dumped\"] == 0,\n",
    "            59 - self.df[\"arrived\"],\n",
    "            self.df[\"dumped\"] - self.df[\"arrived\"],\n",
    "        )\n",
    "        self.df[\"n_days_perc\"] = self.df[\"n_days\"] / (59 - self.df[\"arrived\"])\n",
    "        return self\n",
    "    \n",
    "def normalize(df, ind_cols=[\"n_tweets_perc\", \"score\"], dep_col=\"n_days_perc\"):\n",
    "    for col in ind_cols:\n",
    "        df = df[df[col].notna()]\n",
    "        df[col] = preprocessing.normalize([df[col]])[0]\n",
    "    return df[df[dep_col].notna()]\n",
    "\n",
    "\n",
    "def fit_mod(df, dep_col=\"n_days_perc\", ind_cols=[\"n_tweets_perc\", \"score\"]):      \n",
    "    poly = preprocessing.PolynomialFeatures(degree=2)\n",
    "    reg = linear_model.LinearRegression()\n",
    "    reg.fit(poly.fit_transform(df[ind_cols]), df[dep_col])\n",
    "    return reg, poly\n",
    "\n",
    "\n",
    "def get_stats(df, reg, poly, dep_col=\"n_days_perc\", ind_cols=[\"n_tweets_perc\", \"score\"]):    \n",
    "    print(\"\\033[1mRegression outputs\", \"\\033[0;0m\")\n",
    "    print(\"x0 = n_tweets_perc\\nx1 = mean sentiment score\\n\")\n",
    "    print(\"Intercept:\", reg.intercept_, \"\\n\") \n",
    "\n",
    "    for c in zip(poly.get_feature_names(), reg.coef_):\n",
    "        if c[0] != '1':\n",
    "            print(\"Coefficient for {}: {}\".format(c[0], c[1])) \n",
    "            \n",
    "    print(\"\\nR^2 score:\", reg.score(poly.fit_transform(df[ind_cols]), df[dep_col]))\n",
    "\n",
    "\n",
    "def apply_mod(df, req, poly):\n",
    "    df[\"pred\"] = df.apply(\n",
    "        lambda row:reg.predict(poly.fit_transform([[row[\"n_tweets_perc\"], row[\"score\"]]]))[0],\n",
    "        axis=1)\n",
    "    df[\"diff\"] = df[\"n_days_perc\"] - df[\"pred\"]\n",
    "    df[\"b_o_w\"] = np.where(df[\"diff\"] < 0, \"worse\", \"better\")\n",
    "    return df\n"
   ]
  },
  {
   "cell_type": "markdown",
   "metadata": {},
   "source": [
    "### Preprocessing \n",
    "1. Find mean sentiment score of all tweets about each islander per day, find the percentage of tweets per day that included a direct reference to each islander\n",
    "2. Filter to only include the days that the islander was in the villa (if an islander left and in reaction to their actions on the outside they may have got a lot of tweets etc, this isn't relevant for predicting something during their time in the villa).\n",
    "3. Find the mean sentiment score per islander from the days they were in the villa and the mean percentage of tweets about them across all the days they were inside; we want to be \"fair\" to all islanders, if we simply took the percentage of tweets per all tweets we would be very biased towards islanders who have been their longer, so by taking the average per day, then the average of these, we normalize for islanders who have been on the show for different lengths of times. \n",
    "4. Add some metadata to use downstream (islander sex etc)\n",
    "5. Calculate the proportion of days an islander lasted out of the total number of days they could have stayed. If an islander entered on day 30 and lasted until day 60, then this is only half as many days as someone who entered on day 1 and lasted until day 60, however their available days is half as many so both of these islanders did the best they could and we should account for this - to calculate our dependant variable we shall do: \n",
    "\n",
    "`p = (N day the islander left the villa - N day islander entered the villa) / (59 - N day islander entered the villa)`\n",
    "\n",
    "6. Normalize the independent variables as we know the sentiment score is capped between -1 and 1 with the mean percentage of tweets being uncapped and having a much larger range so normalizing will lead to much more interpretable coefficients.\n",
    "\n",
    "\n",
    "We will then apply a polynomial regression curve to these features, aiming to predict the proportion of days an islander will stay on the show. My choice to fit a polynomial stems from my assumption that their will be a large interaction between the percentage of tweets an islander receives and the sentiment score behind them, my thinking being that a mid to large percentage of tweets with a positive score will be a better predictor than an huge number of tweets with a score close to zero for example. \n",
    "\n",
    "\n"
   ]
  },
  {
   "cell_type": "code",
   "execution_count": 37,
   "metadata": {
    "scrolled": false
   },
   "outputs": [
    {
     "data": {
      "text/html": [
       "<div>\n",
       "<style scoped>\n",
       "    .dataframe tbody tr th:only-of-type {\n",
       "        vertical-align: middle;\n",
       "    }\n",
       "\n",
       "    .dataframe tbody tr th {\n",
       "        vertical-align: top;\n",
       "    }\n",
       "\n",
       "    .dataframe thead th {\n",
       "        text-align: right;\n",
       "    }\n",
       "</style>\n",
       "<table border=\"1\" class=\"dataframe\">\n",
       "  <thead>\n",
       "    <tr style=\"text-align: right;\">\n",
       "      <th></th>\n",
       "      <th>islander</th>\n",
       "      <th>n_tweets</th>\n",
       "      <th>score</th>\n",
       "      <th>n_tweets_perc</th>\n",
       "      <th>favs</th>\n",
       "      <th>arrived</th>\n",
       "      <th>dumped</th>\n",
       "      <th>age</th>\n",
       "      <th>season</th>\n",
       "      <th>sex</th>\n",
       "      <th>white</th>\n",
       "      <th>male</th>\n",
       "      <th>n_days</th>\n",
       "      <th>n_days_perc</th>\n",
       "      <th>pred</th>\n",
       "      <th>diff</th>\n",
       "      <th>b_o_w</th>\n",
       "    </tr>\n",
       "  </thead>\n",
       "  <tbody>\n",
       "    <tr>\n",
       "      <th>0</th>\n",
       "      <td>adam</td>\n",
       "      <td>84745</td>\n",
       "      <td>-0.023380</td>\n",
       "      <td>0.243617</td>\n",
       "      <td>23.569841</td>\n",
       "      <td>1</td>\n",
       "      <td>33</td>\n",
       "      <td>22</td>\n",
       "      <td>4</td>\n",
       "      <td>male</td>\n",
       "      <td>1</td>\n",
       "      <td>1</td>\n",
       "      <td>32</td>\n",
       "      <td>0.551724</td>\n",
       "      <td>0.474686</td>\n",
       "      <td>0.077038</td>\n",
       "      <td>better</td>\n",
       "    </tr>\n",
       "    <tr>\n",
       "      <th>1</th>\n",
       "      <td>alex</td>\n",
       "      <td>171660</td>\n",
       "      <td>0.167945</td>\n",
       "      <td>0.355686</td>\n",
       "      <td>23.572703</td>\n",
       "      <td>1</td>\n",
       "      <td>57</td>\n",
       "      <td>27</td>\n",
       "      <td>4</td>\n",
       "      <td>male</td>\n",
       "      <td>1</td>\n",
       "      <td>1</td>\n",
       "      <td>56</td>\n",
       "      <td>0.965517</td>\n",
       "      <td>0.727258</td>\n",
       "      <td>0.238259</td>\n",
       "      <td>better</td>\n",
       "    </tr>\n",
       "    <tr>\n",
       "      <th>2</th>\n",
       "      <td>alexandra</td>\n",
       "      <td>29395</td>\n",
       "      <td>0.198848</td>\n",
       "      <td>0.230045</td>\n",
       "      <td>14.770105</td>\n",
       "      <td>39</td>\n",
       "      <td>57</td>\n",
       "      <td>27</td>\n",
       "      <td>4</td>\n",
       "      <td>female</td>\n",
       "      <td>1</td>\n",
       "      <td>0</td>\n",
       "      <td>18</td>\n",
       "      <td>0.900000</td>\n",
       "      <td>0.912444</td>\n",
       "      <td>-0.012444</td>\n",
       "      <td>worse</td>\n",
       "    </tr>\n",
       "    <tr>\n",
       "      <th>3</th>\n",
       "      <td>charlie</td>\n",
       "      <td>16662</td>\n",
       "      <td>0.129794</td>\n",
       "      <td>0.079694</td>\n",
       "      <td>15.469293</td>\n",
       "      <td>26</td>\n",
       "      <td>43</td>\n",
       "      <td>23</td>\n",
       "      <td>4</td>\n",
       "      <td>male</td>\n",
       "      <td>1</td>\n",
       "      <td>1</td>\n",
       "      <td>17</td>\n",
       "      <td>0.515152</td>\n",
       "      <td>0.521307</td>\n",
       "      <td>-0.006156</td>\n",
       "      <td>worse</td>\n",
       "    </tr>\n",
       "    <tr>\n",
       "      <th>4</th>\n",
       "      <td>dani</td>\n",
       "      <td>79796</td>\n",
       "      <td>0.357404</td>\n",
       "      <td>0.168056</td>\n",
       "      <td>25.456817</td>\n",
       "      <td>1</td>\n",
       "      <td>59</td>\n",
       "      <td>21</td>\n",
       "      <td>4</td>\n",
       "      <td>female</td>\n",
       "      <td>1</td>\n",
       "      <td>0</td>\n",
       "      <td>58</td>\n",
       "      <td>1.000000</td>\n",
       "      <td>0.937172</td>\n",
       "      <td>0.062828</td>\n",
       "      <td>better</td>\n",
       "    </tr>\n",
       "  </tbody>\n",
       "</table>\n",
       "</div>"
      ],
      "text/plain": [
       "    islander  n_tweets     score  n_tweets_perc       favs  arrived  dumped  \\\n",
       "0       adam     84745 -0.023380       0.243617  23.569841        1      33   \n",
       "1       alex    171660  0.167945       0.355686  23.572703        1      57   \n",
       "2  alexandra     29395  0.198848       0.230045  14.770105       39      57   \n",
       "3    charlie     16662  0.129794       0.079694  15.469293       26      43   \n",
       "4       dani     79796  0.357404       0.168056  25.456817        1      59   \n",
       "\n",
       "   age  season     sex  white  male  n_days  n_days_perc      pred      diff  \\\n",
       "0   22       4    male      1     1      32     0.551724  0.474686  0.077038   \n",
       "1   27       4    male      1     1      56     0.965517  0.727258  0.238259   \n",
       "2   27       4  female      1     0      18     0.900000  0.912444 -0.012444   \n",
       "3   23       4    male      1     1      17     0.515152  0.521307 -0.006156   \n",
       "4   21       4  female      1     0      58     1.000000  0.937172  0.062828   \n",
       "\n",
       "    b_o_w  \n",
       "0  better  \n",
       "1  better  \n",
       "2   worse  \n",
       "3   worse  \n",
       "4  better  "
      ]
     },
     "execution_count": 37,
     "metadata": {},
     "output_type": "execute_result"
    }
   ],
   "source": [
    "args = Arguments(4)\n",
    "\n",
    "agg4 = AggAgg(args)\n",
    "agg4.islander_agg().create_dummy().create_days()\n",
    "\n",
    "agg_df4 = normalize(agg4.df)\n",
    "reg, poly = fit_mod(agg_df4)\n",
    "agg_df4 = apply_mod(agg_df4, reg, poly)\n",
    "agg_df4.head()"
   ]
  },
  {
   "cell_type": "markdown",
   "metadata": {},
   "source": [
    "### Training\n",
    "Firstly, concentrating on the regression intercept, with 0 tweets and therefore a score of 0 we would expect an islander to last less slightly less than 20% of the days that they could, this makes sense as usually when an islander enters the villa there is a period of 5/6 days where there is no dumping, therefore if an islander entered halfway though the series and got dumped at the first opportunity then this would be 20% as predicted! For an islander to last more than 20% then they need to grab the publics attention and therefore will generate tweets. \n",
    "\n",
    "Focusing on the coefficients, we see that there is a positive linear relationship between the percentage of tweets an islander receives a day and the number of days an islander stays for, we do see a negative squared term with nearly triple the magnitude of the positive linear term, this might suggest that this relationship is a parabola and that there is a positive relationship up to a point and then over a certain percentage of tweets the expected number of days on the show begins to reduce, this could be evidence of users tweeting more at negative events than positive ones. Perhaps counterintuitively, the relationship between mean sentiment score (both linear and squared terms) and proportion of days stayed is negative, this could however be due to other things such as the way the sentiment analyser deals with tweets where the author is feeling sorry for an islander for example. These terms may also be evidence for a bias towards the finalist; for example we know is this series that Alex got very far and he was an islander who received a lot of mixed reactions as well as the fact that Dani and Jack were never really spoken about online aside from being called boring (ie negative sentiment) but got very far.  \n",
    "\n",
    "Considering the interaction term in our model (the coefficient for x0*x1) we see it is also the largest coefficient so has the greatest impact on the model, it is also positive which suggests that if an islander receives lots of positive tweets their expected days increase. This matches with expectations and validates that the choice of a non-linear model was a good one!\n",
    "\n",
    "An R-squared term of 0.454 is slightly less than half of the maximum value (returns a value between 0-1), given that we are predicting human behaviours this not too bad; over 45% of the variance within the data is explained by the features of out model. We  know that there will be a lot of noise within the data (due to the nature of sentiment analysis, misspelling on twitter, so this score is relatively good."
   ]
  },
  {
   "cell_type": "code",
   "execution_count": 38,
   "metadata": {},
   "outputs": [
    {
     "name": "stdout",
     "output_type": "stream",
     "text": [
      "\u001b[1mRegression outputs \u001b[0;0m\n",
      "x0 = n_tweets_perc\n",
      "x1 = mean sentiment score\n",
      "\n",
      "Intercept: 0.19269711584811394 \n",
      "\n",
      "Coefficient for x0: 4.283608063620655\n",
      "Coefficient for x1: -0.09783586289138047\n",
      "Coefficient for x0^2: -11.929859255408255\n",
      "Coefficient for x0 x1: 9.663707948934706\n",
      "Coefficient for x1^2: -1.4400753920217557\n",
      "\n",
      "R^2 score: 0.4535578526947106\n"
     ]
    }
   ],
   "source": [
    "get_stats(agg_df4, reg, poly)"
   ]
  },
  {
   "cell_type": "markdown",
   "metadata": {},
   "source": [
    "Plotting the predicted proportion of days on the show vs the actual number of days on the show we get the following graph. We can see that there is a very positive relationship between the two and without any further statistical tests one would say that the model has a pretty good fit. We observe a clustering of islanders who have stayed for nearly the maximum number of days yet are predicted to only last between 50-70% of their maximum number of days - all the islanders in this cluster are the finalists, the majority of them were on the show from the first episode so have a much larger dataset than everyone else, whilst we have tried to normalize for this it does mean that they have a much greater chance of having days with a lot of tweets or with a very low or high sentiment score due to the fact that they were on our screens for so many more days. "
   ]
  },
  {
   "cell_type": "code",
   "execution_count": 39,
   "metadata": {},
   "outputs": [
    {
     "data": {
      "text/plain": [
       "<matplotlib.axes._subplots.AxesSubplot at 0x3dedc8ef0>"
      ]
     },
     "execution_count": 39,
     "metadata": {},
     "output_type": "execute_result"
    },
    {
     "data": {
      "image/png": "[encoded data removed]",
      "text/plain": [
       "<Figure size 432x432 with 1 Axes>"
      ]
     },
     "metadata": {
      "needs_background": "light"
     },
     "output_type": "display_data"
    }
   ],
   "source": [
    "fig = plt.figure(figsize=(6, 6))\n",
    "\n",
    "sns.scatterplot(\"n_days_perc\", \"pred\", \"male\", data=agg_df4)\n",
    "sns.lineplot([0,1], [0,1], color=\"green\")"
   ]
  },
  {
   "cell_type": "code",
   "execution_count": 40,
   "metadata": {},
   "outputs": [
    {
     "data": {
      "text/html": [
       "<div>\n",
       "<style scoped>\n",
       "    .dataframe tbody tr th:only-of-type {\n",
       "        vertical-align: middle;\n",
       "    }\n",
       "\n",
       "    .dataframe tbody tr th {\n",
       "        vertical-align: top;\n",
       "    }\n",
       "\n",
       "    .dataframe thead th {\n",
       "        text-align: right;\n",
       "    }\n",
       "</style>\n",
       "<table border=\"1\" class=\"dataframe\">\n",
       "  <thead>\n",
       "    <tr style=\"text-align: right;\">\n",
       "      <th></th>\n",
       "      <th>islander</th>\n",
       "      <th>n_tweets</th>\n",
       "      <th>score</th>\n",
       "      <th>n_tweets_perc</th>\n",
       "      <th>favs</th>\n",
       "      <th>arrived</th>\n",
       "      <th>dumped</th>\n",
       "      <th>age</th>\n",
       "      <th>season</th>\n",
       "      <th>sex</th>\n",
       "      <th>col</th>\n",
       "      <th>white</th>\n",
       "      <th>male</th>\n",
       "      <th>n_days</th>\n",
       "      <th>n_days_perc</th>\n",
       "      <th>pred</th>\n",
       "      <th>diff</th>\n",
       "      <th>b_o_w</th>\n",
       "    </tr>\n",
       "  </thead>\n",
       "  <tbody>\n",
       "    <tr>\n",
       "      <th>0</th>\n",
       "      <td>amber</td>\n",
       "      <td>203783</td>\n",
       "      <td>0.184032</td>\n",
       "      <td>0.298577</td>\n",
       "      <td>43.795624</td>\n",
       "      <td>1</td>\n",
       "      <td>59</td>\n",
       "      <td>21</td>\n",
       "      <td>5</td>\n",
       "      <td>female</td>\n",
       "      <td>#5D3BAC</td>\n",
       "      <td>0</td>\n",
       "      <td>0</td>\n",
       "      <td>58</td>\n",
       "      <td>1.000000</td>\n",
       "      <td>0.872380</td>\n",
       "      <td>0.127620</td>\n",
       "      <td>better</td>\n",
       "    </tr>\n",
       "    <tr>\n",
       "      <th>1</th>\n",
       "      <td>amy</td>\n",
       "      <td>111526</td>\n",
       "      <td>0.051014</td>\n",
       "      <td>0.209516</td>\n",
       "      <td>32.050478</td>\n",
       "      <td>1</td>\n",
       "      <td>37</td>\n",
       "      <td>26</td>\n",
       "      <td>5</td>\n",
       "      <td>female</td>\n",
       "      <td>#ED4F8A</td>\n",
       "      <td>1</td>\n",
       "      <td>0</td>\n",
       "      <td>36</td>\n",
       "      <td>0.620690</td>\n",
       "      <td>0.661046</td>\n",
       "      <td>-0.040356</td>\n",
       "      <td>worse</td>\n",
       "    </tr>\n",
       "    <tr>\n",
       "      <th>2</th>\n",
       "      <td>anna</td>\n",
       "      <td>130095</td>\n",
       "      <td>0.087269</td>\n",
       "      <td>0.157330</td>\n",
       "      <td>29.896591</td>\n",
       "      <td>1</td>\n",
       "      <td>52</td>\n",
       "      <td>29</td>\n",
       "      <td>5</td>\n",
       "      <td>female</td>\n",
       "      <td>#E4422D</td>\n",
       "      <td>0</td>\n",
       "      <td>0</td>\n",
       "      <td>51</td>\n",
       "      <td>0.879310</td>\n",
       "      <td>0.684519</td>\n",
       "      <td>0.194791</td>\n",
       "      <td>better</td>\n",
       "    </tr>\n",
       "    <tr>\n",
       "      <th>3</th>\n",
       "      <td>anton</td>\n",
       "      <td>76561</td>\n",
       "      <td>0.127779</td>\n",
       "      <td>0.144059</td>\n",
       "      <td>28.118196</td>\n",
       "      <td>1</td>\n",
       "      <td>56</td>\n",
       "      <td>24</td>\n",
       "      <td>5</td>\n",
       "      <td>male</td>\n",
       "      <td>#D7D5DC</td>\n",
       "      <td>1</td>\n",
       "      <td>1</td>\n",
       "      <td>55</td>\n",
       "      <td>0.948276</td>\n",
       "      <td>0.704081</td>\n",
       "      <td>0.244195</td>\n",
       "      <td>better</td>\n",
       "    </tr>\n",
       "    <tr>\n",
       "      <th>4</th>\n",
       "      <td>arabella</td>\n",
       "      <td>28742</td>\n",
       "      <td>0.015901</td>\n",
       "      <td>0.239962</td>\n",
       "      <td>44.191802</td>\n",
       "      <td>18</td>\n",
       "      <td>25</td>\n",
       "      <td>28</td>\n",
       "      <td>5</td>\n",
       "      <td>female</td>\n",
       "      <td>#F7F2F4</td>\n",
       "      <td>1</td>\n",
       "      <td>0</td>\n",
       "      <td>7</td>\n",
       "      <td>0.170732</td>\n",
       "      <td>0.568611</td>\n",
       "      <td>-0.397879</td>\n",
       "      <td>worse</td>\n",
       "    </tr>\n",
       "  </tbody>\n",
       "</table>\n",
       "</div>"
      ],
      "text/plain": [
       "   islander  n_tweets     score  n_tweets_perc       favs  arrived  dumped  \\\n",
       "0     amber    203783  0.184032       0.298577  43.795624        1      59   \n",
       "1       amy    111526  0.051014       0.209516  32.050478        1      37   \n",
       "2      anna    130095  0.087269       0.157330  29.896591        1      52   \n",
       "3     anton     76561  0.127779       0.144059  28.118196        1      56   \n",
       "4  arabella     28742  0.015901       0.239962  44.191802       18      25   \n",
       "\n",
       "   age  season     sex      col  white  male  n_days  n_days_perc      pred  \\\n",
       "0   21       5  female  #5D3BAC      0     0      58     1.000000  0.872380   \n",
       "1   26       5  female  #ED4F8A      1     0      36     0.620690  0.661046   \n",
       "2   29       5  female  #E4422D      0     0      51     0.879310  0.684519   \n",
       "3   24       5    male  #D7D5DC      1     1      55     0.948276  0.704081   \n",
       "4   28       5  female  #F7F2F4      1     0       7     0.170732  0.568611   \n",
       "\n",
       "       diff   b_o_w  \n",
       "0  0.127620  better  \n",
       "1 -0.040356   worse  \n",
       "2  0.194791  better  \n",
       "3  0.244195  better  \n",
       "4 -0.397879   worse  "
      ]
     },
     "execution_count": 40,
     "metadata": {},
     "output_type": "execute_result"
    }
   ],
   "source": [
    "args = Arguments(5)\n",
    "\n",
    "agg5 = AggAgg(args)\n",
    "agg5.islander_agg().create_dummy().create_days()\n",
    "agg_df5 = normalize(agg5.df)\n",
    "\n",
    "agg_df5 = apply_mod(agg_df5, reg, poly)\n",
    "agg_df5.head()"
   ]
  },
  {
   "cell_type": "markdown",
   "metadata": {},
   "source": [
    "### Testing\n",
    "Given my aim is to predict the winner of Love Island 2019 I want to compare the two series and determine if using last years series as a training set is suitable. In light of this we can use the same model to predict the proportion of potential days an islander will stay in series 5, given the majority have already left we have a lot of validation sources and will be able to determine how good the fit is. \n",
    "\n",
    "Focusing on the R-squared term we actually see an increase - this is not expected but very good news! The similarity of the R-squared term suggests that the data is very similar which is encouraging for the second part of this work."
   ]
  },
  {
   "cell_type": "code",
   "execution_count": 41,
   "metadata": {},
   "outputs": [
    {
     "name": "stdout",
     "output_type": "stream",
     "text": [
      "\u001b[1mRegression outputs \u001b[0;0m\n",
      "x0 = n_tweets_perc\n",
      "x1 = mean sentiment score\n",
      "\n",
      "Intercept: 0.19269711584811394 \n",
      "\n",
      "Coefficient for x0: 4.283608063620655\n",
      "Coefficient for x1: -0.09783586289138047\n",
      "Coefficient for x0^2: -11.929859255408255\n",
      "Coefficient for x0 x1: 9.663707948934706\n",
      "Coefficient for x1^2: -1.4400753920217557\n",
      "\n",
      "R^2 score: 0.5044522811916672\n"
     ]
    }
   ],
   "source": [
    "get_stats(agg_df5, reg, poly)"
   ]
  },
  {
   "cell_type": "markdown",
   "metadata": {},
   "source": [
    "Plotting the relationship again is further evidence for a much worse fit. "
   ]
  },
  {
   "cell_type": "code",
   "execution_count": 42,
   "metadata": {},
   "outputs": [
    {
     "data": {
      "text/plain": [
       "<matplotlib.axes._subplots.AxesSubplot at 0x131770630>"
      ]
     },
     "execution_count": 42,
     "metadata": {},
     "output_type": "execute_result"
    },
    {
     "data": {
      "image/png": "[encoded data removed]",
      "text/plain": [
       "<Figure size 432x432 with 1 Axes>"
      ]
     },
     "metadata": {
      "needs_background": "light"
     },
     "output_type": "display_data"
    }
   ],
   "source": [
    "fig = plt.figure(figsize=(6, 6))\n",
    "\n",
    "sns.scatterplot(\"n_days_perc\", \"pred\", \"male\", data=agg_df5)\n",
    "sns.lineplot([0,1], [0,1], color=\"green\")"
   ]
  },
  {
   "cell_type": "markdown",
   "metadata": {},
   "source": [
    " In conclusion to this first part on predicting the number of potential days each individual islander lasts, we see that we can produce a fairly good model using the mean percentage of tweets than mention each islander per day combined with the mean sentiment score per day. We have seen that there is not a huge difference between series 4 and 5. To improve this model we could use more features about the individuals, such as sex, ethnicity and age for example, however I did this to compare the features we used to determine if we could use season 4 data to compare couples, which means we wouldn't be able to use these due to complexity and a very small sample size. "
   ]
  },
  {
   "cell_type": "markdown",
   "metadata": {},
   "source": [
    "### Predicting the Winner "
   ]
  },
  {
   "cell_type": "markdown",
   "metadata": {},
   "source": [
    "The second part of this work focuses around predicting the winner of Love Island 2019, instead of predicting number of days we shall be predicting the vote share, the training data can be found [here](https://www.itv.com/loveisland/news/your-love-island-2018-voting-results). Instead of doing this at an individual level we shall be aggregating by couple (including all the couples per vote) and instead of aggregating per day we shall be combining all the days between each vote as a grouping. The features we are going to use are the same as the first part (number of tweets and sentiment score). Given we are now focusing on couples, the fact that some islanders had the same name won't matter so much as we are focusing on tweets that explicitly reference both parties."
   ]
  },
  {
   "cell_type": "code",
   "execution_count": 43,
   "metadata": {},
   "outputs": [],
   "source": [
    "class PredCommon:\n",
    "    def __init__(self, df):\n",
    "        self.agg_df = pd.DataFrame()\n",
    "        self.df = df\n",
    "            \n",
    "    def recode_col(self, sdate, edate, d_col):\n",
    "        self.df[\"vote\"] = np.where(\n",
    "            (sdate <= self.df[d_col]) & (self.df[d_col] < edate), edate, self.df[\"vote\"],\n",
    "        )\n",
    "        return self\n",
    "    \n",
    "    def recode_vote(self, d_col=\"date\"):\n",
    "        if self.args.season == 4:\n",
    "            dl = [\"2018-06-26\", \"2018-07-04\", \"2018-07-13\", \"2018-07-20\", \"2018-07-24\", \"2018-07-29\"]\n",
    "        else:\n",
    "            dl = [\"2019-06-26\", \"2019-07-07\", \"2019-07-12\", \"2019-07-19\", \"2019-07-23\", \"2019-07-29\"]\n",
    "        \n",
    "        self.df[\"vote\"] = np.where(self.df[d_col] < dl[0], dl[0], \"else\")\n",
    "        for i in range(1, len(dl)-1):\n",
    "            self.recode_col(dl[i], dl[i+1], d_col)\n",
    "        return self\n",
    "        \n",
    "    def get_totals(self, gb=[\"vote\"]):\n",
    "        return self.do_agg(gb)[gb + [\"n_tweets\", \"n_users\"]].rename(\n",
    "            columns={\"n_tweets\": \"n_tweets_total\", \"n_users\": \"n_users_total\"}\n",
    "        )\n",
    "\n",
    "    def get_perc(self, col):\n",
    "        self.agg_df[col + \"_perc\"] = (\n",
    "            self.agg_df[col] * 100 / self.agg_df[col + \"_total\"]\n",
    "        )\n",
    "        return self"
   ]
  },
  {
   "cell_type": "code",
   "execution_count": 44,
   "metadata": {},
   "outputs": [],
   "source": [
    "class AggCouples(PredCommon):\n",
    "    def __init__(self, args, df):\n",
    "        PredCommon.__init__(self, df)\n",
    "        self.args = args\n",
    "\n",
    "        self.results = self.get_results()\n",
    "        self.comb = self.get_couples(self.results)\n",
    "\n",
    "        self.format_res()\n",
    "        self.recode_vote()\n",
    "        \n",
    "    def get_results(self):\n",
    "        if self.args.season == 4:\n",
    "            return RESULTS_4\n",
    "        else:\n",
    "            return RESULTS_5\n",
    "\n",
    "    @staticmethod\n",
    "    def get_couples(results):\n",
    "        comb = []\n",
    "        [comb.extend(list(v.keys())) for k, v in results.items()]\n",
    "        comb = list(set(comb))\n",
    "        return comb\n",
    "\n",
    "    def format_res(self):\n",
    "        recode = {}\n",
    "        for k0, v0 in self.results.items():\n",
    "            recode[k0] = {}\n",
    "            for k1, v1 in self.results[k0].items():\n",
    "                recode[k0][k1[0] + \"_\" + k1[1]] = v1\n",
    "        self.results = recode\n",
    "        return self\n",
    "\n",
    "    @staticmethod\n",
    "    def format_pair(pair):\n",
    "        pair = [i.lower() for i in pair]\n",
    "        return pair, pair[0] + \"_\" + pair[1]\n",
    "\n",
    "    def do_agg(self, gb=[\"vote\"], ph=None):\n",
    "        \"\"\"Aggregate various metrics per couple/date\"\"\"\n",
    "        AGG_JS = {\n",
    "            \"favs\": \"mean\",\n",
    "            \"retwe\": \"mean\",\n",
    "            \"score\": \"mean\",\n",
    "            \"user\": \"nunique\",\n",
    "            \"url\": \"count\",\n",
    "            \"weight_senti\": \"mean\",\n",
    "        }\n",
    "        RN_JS = {\"url\": \"n_tweets\", \"user\": \"n_users\"}\n",
    "        df = self.df[self.df[\"score\"] != 0]\n",
    "        if ph is not None:\n",
    "            df = df[df[ph] == ph]\n",
    "            gb = gb + [ph]\n",
    "            RN_JS[ph] = \"couple\"\n",
    "        if len(df) > 0:\n",
    "            return df.groupby(gb).agg(AGG_JS).reset_index().rename(columns=RN_JS)\n",
    "        return pd.DataFrame()\n",
    "\n",
    "    def get_agg_df(self):\n",
    "        for pair in self.comb:\n",
    "            pair, ph = self.format_pair(pair)\n",
    "            if pair[0] in self.df.columns and pair[1] in self.df.columns:\n",
    "                self.df[ph] = np.where(\n",
    "                    (self.df[pair[0]] == pair[0]) & (self.df[pair[1]] == pair[1]),\n",
    "                    ph,\n",
    "                    \"nan\",\n",
    "                )\n",
    "\n",
    "                self.agg_df = self.agg_df.append(\n",
    "                    self.do_agg([\"vote\"], ph), sort=True\n",
    "                ).reset_index(drop=True)\n",
    "\n",
    "        self.agg_df = self.agg_df.merge(self.get_totals(), on=\"vote\", how=\"left\")\n",
    "        self.get_perc(\"n_tweets\")\n",
    "        self.get_perc(\"n_users\")\n",
    "        return self\n",
    "\n",
    "    @staticmethod\n",
    "    def get_split(x, n):\n",
    "        return x.split(\"_\")[n]\n",
    "\n",
    "    def add_islanders(self):\n",
    "        self.agg_df[\"female\"] = self.agg_df[\"couple\"].apply(\n",
    "            lambda x: self.get_split(x, 0)\n",
    "        )\n",
    "        self.agg_df[\"male\"] = self.agg_df[\"couple\"].apply(\n",
    "            lambda x: self.get_split(x, 1)\n",
    "        )\n",
    "        return self\n",
    "\n",
    "    def get_res(self):\n",
    "        res = pd.DataFrame.from_dict(self.results).reset_index()\n",
    "        res = pd.melt(\n",
    "            res, id_vars=[\"index\"], value_vars=[c for c in res.columns if c != \"index\"]\n",
    "        )\n",
    "        res = res.rename(\n",
    "            columns={\"variable\": \"vote\", \"value\": \"v_share\", \"index\": \"couple\"}\n",
    "        )\n",
    "        res[\"couple\"] = res[\"couple\"].str.lower()\n",
    "        res[\"v_max\"] = res.groupby([\"couple\", \"vote\"])[\"v_share\"].transform(max)\n",
    "        return (\n",
    "            res[res[\"v_max\"] == res[\"v_share\"]]\n",
    "            .drop(columns=[\"v_max\"])\n",
    "            .reset_index(drop=True)\n",
    "        )\n",
    "\n",
    "    def full_df(self):\n",
    "        self.add_islanders()\n",
    "\n",
    "        self.agg_df = self.agg_df.merge(\n",
    "            self.get_res(), on=[\"vote\", \"couple\"], how=\"left\"\n",
    "        )\n",
    "        self.agg_df = self.agg_df[\n",
    "            (self.agg_df[\"n_tweets_perc\"].notna()) & \n",
    "            (self.agg_df[\"score\"].notna()) & \n",
    "            (self.agg_df[\"v_share\"].notna()\n",
    "            )]\n",
    "        return self\n"
   ]
  },
  {
   "cell_type": "code",
   "execution_count": 102,
   "metadata": {},
   "outputs": [],
   "source": [
    "def get_btn(df):\n",
    "    tmp = df[df[\"v_share\"] != 1]\n",
    "    tmp = tmp.groupby([\"vote\"])[\"v_share\"].agg({\"btm\": 'count', \"v_max\":'max'}).reset_index()\n",
    "    tmp[\"btm\"] = tmp[\"btm\"] / tmp[\"v_max\"]\n",
    "    return df.merge(tmp, on=\"vote\", how=\"left\")\n",
    "\n",
    "def get_predictions(reg, df):\n",
    "    df[\"pred_v_share\"] = df.apply(\n",
    "        lambda row:reg.predict(poly.fit_transform([[row[\"n_tweets_perc\"], row[\"score\"]]]))[0],\n",
    "        axis=1\n",
    "    )\n",
    "    df[\"pred_order\"] = df.sort_values(by=\"pred_v_share\", ascending=False).groupby(\"vote\").cumcount() + 1\n",
    "    return get_btn(df)\n",
    "\n",
    "def validate(df):\n",
    "    df[\"rev_order_true\"] = df.sort_values(by=\"v_share\", ascending=True).groupby(\"vote\").cumcount() + 1\n",
    "    df[\"order_true\"] = df.sort_values(by=\"v_share\", ascending=False).groupby(\"vote\").cumcount() + 1\n",
    "    \n",
    "    # df = df[df[\"rev_order_true\"] <= 2]    \n",
    "    cols = [\"vote\", \"couple\", 'n_tweets_perc', 'score', \"v_share\", \"order_true\",\"pred_v_share\", \"pred_order\"]\n",
    "    return df#[df[\"order_true\"] != df[\"pred_order\"]][cols].sort_values(\"vote\").reset_index(drop=True)\n",
    "\n",
    "\n",
    "def split_df(df, final=\"2019-07-29\"):\n",
    "    return df[df[\"vote\"] != \"2019-07-29\"], df[df[\"vote\"] == \"2019-07-29\"]\n",
    "    \n",
    "def find_accuracy(df):\n",
    "    df[\"pos\"] = df[\"pred_order\"] / df[\"v_max\"]\n",
    "    \n",
    "    df[\"true_bottom\"] = np.where(df[\"v_share\"] == 1.0, True, False)\n",
    "    df[\"pred_bottom\"] = np.where(df[\"pos\"] > df[\"btm\"], True, False)\n",
    "    \n",
    "    cols = [\"vote\", \"couple\", 'n_tweets_perc', 'score', \"true_bottom\", \"pred_bottom\", \"pred_v_share\", \"pred_order\"]\n",
    "    return df[cols].sort_values(\"vote\").reset_index(drop=True)\n"
   ]
  },
  {
   "cell_type": "code",
   "execution_count": 46,
   "metadata": {
    "scrolled": false
   },
   "outputs": [],
   "source": [
    "args = Arguments(4)\n",
    "\n",
    "df = F.import_all(\n",
    "    os.path.join(args.bucket, \"season_\" + str(args.season), \"processed/\")\n",
    ")\n",
    "fd4 = AggCouples(args, df)\n",
    "fd4.get_agg_df().full_df()"
   ]
  },
  {
   "cell_type": "code",
   "execution_count": 75,
   "metadata": {},
   "outputs": [],
   "source": [
    "agg_df_4 = normalize(fd4.agg_df, dep_col='v_share')\n",
    "req, poly = fit_mod(agg_df_4, dep_col='v_share')"
   ]
  },
  {
   "cell_type": "markdown",
   "metadata": {},
   "source": [
    "The results of the model look slightly different to the first part, here we see a positive linear relationship to both the number of tweets and sentiment score. We also see an intercept of very close to 0, this makes sense in this context as we are predicting the vote percentage and therefore one would expect a couple to have generated 0 activity online to get no votes in the real world. We see both of the non linear terms are negative, we have discussed why this could be earlier but also we know that the voting thoughout this series was unprecedentedly in favour of Jack and Dani (they didn't receive less than 50% of the vote at any given opportunity). We see a negative r-squared score that doesn't fill us with confidence at all!"
   ]
  },
  {
   "cell_type": "code",
   "execution_count": 76,
   "metadata": {},
   "outputs": [
    {
     "name": "stdout",
     "output_type": "stream",
     "text": [
      "\u001b[1mRegression outputs \u001b[0;0m\n",
      "x0 = n_tweets_perc\n",
      "x1 = mean sentiment score\n",
      "\n",
      "Intercept: 0.19269711584811394 \n",
      "\n",
      "Coefficient for x0: 4.283608063620655\n",
      "Coefficient for x1: -0.09783586289138047\n",
      "Coefficient for x0^2: -11.929859255408255\n",
      "Coefficient for x0 x1: 9.663707948934706\n",
      "Coefficient for x1^2: -1.4400753920217557\n",
      "\n",
      "R^2 score: -0.5635120945922425\n"
     ]
    }
   ],
   "source": [
    "get_stats(agg_df_4, reg, poly, dep_col=\"v_share\")"
   ]
  },
  {
   "cell_type": "markdown",
   "metadata": {},
   "source": [
    "Whilst we do care about the magnitude of the percentage vote received by each couple, what we really want to know is the relative order in which islanders are placed (whilst it's a popularity contest, to win you only need to have one more person to like you over anyone else!). Looking at the accuracy of the model we again aren't filled with confidence; we see we only got the couple in the correct order in 43% of cases."
   ]
  },
  {
   "cell_type": "code",
   "execution_count": 85,
   "metadata": {},
   "outputs": [
    {
     "name": "stdout",
     "output_type": "stream",
     "text": [
      "Model Accuracy: 0.43333333333333335\n"
     ]
    },
    {
     "name": "stderr",
     "output_type": "stream",
     "text": [
      "/Users/samwatson/projects/loveisland/venv/lib/python3.6/site-packages/ipykernel_launcher.py:3: FutureWarning: using a dict on a Series for aggregation\n",
      "is deprecated and will be removed in a future version\n",
      "  This is separate from the ipykernel package so we can avoid doing imports until\n"
     ]
    }
   ],
   "source": [
    "pred_df = get_predictions(req, agg_df_4)\n",
    "\n",
    "for_scores = validate(pred_df)\n",
    "print(\"Model Accuracy:\", accuracy_score(for_scores[\"order_true\"], for_scores[\"pred_order\"]))\n",
    "# validate(pred_df)"
   ]
  },
  {
   "cell_type": "markdown",
   "metadata": {},
   "source": [
    "Looking at the graph we see a very positive relationship, we do however see that the model will be very influenced by the couples with very high percentage of votes (above 50%) even though this isn't relevant to the majority of points. Whilst just eyeballing this graph one might suggest the model looks good, there is a lot of variation between the actual vote share and the predicted scores, this is starting to suggest that the features we have chosen are not valuable for this part as they were for part 1."
   ]
  },
  {
   "cell_type": "code",
   "execution_count": 69,
   "metadata": {},
   "outputs": [
    {
     "name": "stderr",
     "output_type": "stream",
     "text": [
      "/Users/samwatson/projects/loveisland/venv/lib/python3.6/site-packages/ipykernel_launcher.py:3: FutureWarning: using a dict on a Series for aggregation\n",
      "is deprecated and will be removed in a future version\n",
      "  This is separate from the ipykernel package so we can avoid doing imports until\n"
     ]
    },
    {
     "data": {
      "text/plain": [
       "<matplotlib.axes._subplots.AxesSubplot at 0x31dc4a588>"
      ]
     },
     "execution_count": 69,
     "metadata": {},
     "output_type": "execute_result"
    },
    {
     "data": {
      "image/png": "[encoded data removed]",
      "text/plain": [
       "<Figure size 432x432 with 1 Axes>"
      ]
     },
     "metadata": {
      "needs_background": "light"
     },
     "output_type": "display_data"
    }
   ],
   "source": [
    "pred_df = get_predictions(req, agg_df_4)\n",
    "fig = plt.figure(figsize=(6, 6))\n",
    "\n",
    "sns.scatterplot(\"v_share\", \"pred_v_share\", data=pred_df)\n",
    "sns.lineplot([0,80], [0,80], color=\"green\")"
   ]
  },
  {
   "cell_type": "code",
   "execution_count": 51,
   "metadata": {},
   "outputs": [],
   "source": [
    "args = Arguments(5)\n",
    "\n",
    "df = F.import_all(\n",
    "    os.path.join(args.bucket, \"season_\" + str(args.season), \"processed/\")\n",
    ")\n",
    "fd5 = AggCouples(args, df)\n",
    "fd5.get_agg_df().full_df()"
   ]
  },
  {
   "cell_type": "markdown",
   "metadata": {},
   "source": [
    "Applying the model to series 5 we see a really bad r-squared score, we would expect this score to decrease however confidence is at an all time low in this model working for series 5!"
   ]
  },
  {
   "cell_type": "code",
   "execution_count": 111,
   "metadata": {},
   "outputs": [
    {
     "name": "stdout",
     "output_type": "stream",
     "text": [
      "\u001b[1mRegression outputs \u001b[0;0m\n",
      "x0 = n_tweets_perc\n",
      "x1 = mean sentiment score\n",
      "\n",
      "Intercept: 0.19269711584811394 \n",
      "\n",
      "Coefficient for x0: 4.283608063620655\n",
      "Coefficient for x1: -0.09783586289138047\n",
      "Coefficient for x0^2: -11.929859255408255\n",
      "Coefficient for x0 x1: 9.663707948934706\n",
      "Coefficient for x1^2: -1.4400753920217557\n",
      "\n",
      "R^2 score: -2.1391770316515637\n"
     ]
    }
   ],
   "source": [
    "agg_df_5 = normalize(fd5.agg_df, dep_col='v_share')\n",
    "get_stats(agg_df_5, reg, poly, dep_col=\"v_share\")"
   ]
  },
  {
   "cell_type": "markdown",
   "metadata": {},
   "source": [
    "We have no validation data for series 5 as ITV haven't released the vote spilts yet, what we do know is which couples were in the bottom two or three every time the public voted, ordering based on our predicted percentages and then comparing this with the order that was revealed on the show (ie were they in the couples at risk of being dumped or safe), we see that we got this wrong 9 times out of 36, so therefore an accuracy of 0.630. Given the room for error is now so much more this might be masking the fact that the model doesn't fit well.  "
   ]
  },
  {
   "cell_type": "code",
   "execution_count": 112,
   "metadata": {},
   "outputs": [
    {
     "name": "stdout",
     "output_type": "stream",
     "text": [
      "Model Accuracy: 0.6296296296296297\n"
     ]
    },
    {
     "name": "stderr",
     "output_type": "stream",
     "text": [
      "/Users/samwatson/projects/loveisland/venv/lib/python3.6/site-packages/ipykernel_launcher.py:3: FutureWarning: using a dict on a Series for aggregation\n",
      "is deprecated and will be removed in a future version\n",
      "  This is separate from the ipykernel package so we can avoid doing imports until\n"
     ]
    },
    {
     "data": {
      "text/html": [
       "<div>\n",
       "<style scoped>\n",
       "    .dataframe tbody tr th:only-of-type {\n",
       "        vertical-align: middle;\n",
       "    }\n",
       "\n",
       "    .dataframe tbody tr th {\n",
       "        vertical-align: top;\n",
       "    }\n",
       "\n",
       "    .dataframe thead th {\n",
       "        text-align: right;\n",
       "    }\n",
       "</style>\n",
       "<table border=\"1\" class=\"dataframe\">\n",
       "  <thead>\n",
       "    <tr style=\"text-align: right;\">\n",
       "      <th></th>\n",
       "      <th>vote</th>\n",
       "      <th>couple</th>\n",
       "      <th>n_tweets_perc</th>\n",
       "      <th>score</th>\n",
       "      <th>true_bottom</th>\n",
       "      <th>pred_bottom</th>\n",
       "      <th>pred_v_share</th>\n",
       "      <th>pred_order</th>\n",
       "    </tr>\n",
       "  </thead>\n",
       "  <tbody>\n",
       "    <tr>\n",
       "      <th>1</th>\n",
       "      <td>2019-06-26</td>\n",
       "      <td>molly_tommy</td>\n",
       "      <td>0.141843</td>\n",
       "      <td>0.053339</td>\n",
       "      <td>False</td>\n",
       "      <td>True</td>\n",
       "      <td>1.091925</td>\n",
       "      <td>7</td>\n",
       "    </tr>\n",
       "    <tr>\n",
       "      <th>2</th>\n",
       "      <td>2019-06-26</td>\n",
       "      <td>maura_tom</td>\n",
       "      <td>0.067344</td>\n",
       "      <td>-0.002573</td>\n",
       "      <td>True</td>\n",
       "      <td>False</td>\n",
       "      <td>6.490263</td>\n",
       "      <td>2</td>\n",
       "    </tr>\n",
       "    <tr>\n",
       "      <th>7</th>\n",
       "      <td>2019-07-12</td>\n",
       "      <td>belle_anton</td>\n",
       "      <td>0.056094</td>\n",
       "      <td>0.129684</td>\n",
       "      <td>False</td>\n",
       "      <td>True</td>\n",
       "      <td>3.835828</td>\n",
       "      <td>6</td>\n",
       "    </tr>\n",
       "    <tr>\n",
       "      <th>11</th>\n",
       "      <td>2019-07-12</td>\n",
       "      <td>michael_joanna</td>\n",
       "      <td>0.162483</td>\n",
       "      <td>-0.051027</td>\n",
       "      <td>True</td>\n",
       "      <td>False</td>\n",
       "      <td>5.444483</td>\n",
       "      <td>4</td>\n",
       "    </tr>\n",
       "    <tr>\n",
       "      <th>15</th>\n",
       "      <td>2019-07-19</td>\n",
       "      <td>michael_francesca</td>\n",
       "      <td>0.004384</td>\n",
       "      <td>0.220109</td>\n",
       "      <td>True</td>\n",
       "      <td>False</td>\n",
       "      <td>12.177530</td>\n",
       "      <td>2</td>\n",
       "    </tr>\n",
       "    <tr>\n",
       "      <th>16</th>\n",
       "      <td>2019-07-19</td>\n",
       "      <td>molly_tommy</td>\n",
       "      <td>0.126299</td>\n",
       "      <td>0.100473</td>\n",
       "      <td>False</td>\n",
       "      <td>True</td>\n",
       "      <td>2.015687</td>\n",
       "      <td>6</td>\n",
       "    </tr>\n",
       "    <tr>\n",
       "      <th>18</th>\n",
       "      <td>2019-07-19</td>\n",
       "      <td>belle_anton</td>\n",
       "      <td>0.156492</td>\n",
       "      <td>-0.008484</td>\n",
       "      <td>False</td>\n",
       "      <td>True</td>\n",
       "      <td>2.537478</td>\n",
       "      <td>5</td>\n",
       "    </tr>\n",
       "    <tr>\n",
       "      <th>19</th>\n",
       "      <td>2019-07-19</td>\n",
       "      <td>anna_jordan</td>\n",
       "      <td>0.077808</td>\n",
       "      <td>0.046095</td>\n",
       "      <td>True</td>\n",
       "      <td>False</td>\n",
       "      <td>2.708437</td>\n",
       "      <td>4</td>\n",
       "    </tr>\n",
       "    <tr>\n",
       "      <th>21</th>\n",
       "      <td>2019-07-23</td>\n",
       "      <td>anna_jordan</td>\n",
       "      <td>0.281446</td>\n",
       "      <td>0.044046</td>\n",
       "      <td>True</td>\n",
       "      <td>False</td>\n",
       "      <td>11.058023</td>\n",
       "      <td>4</td>\n",
       "    </tr>\n",
       "    <tr>\n",
       "      <th>22</th>\n",
       "      <td>2019-07-23</td>\n",
       "      <td>molly_tommy</td>\n",
       "      <td>0.124610</td>\n",
       "      <td>0.161529</td>\n",
       "      <td>False</td>\n",
       "      <td>True</td>\n",
       "      <td>6.480879</td>\n",
       "      <td>6</td>\n",
       "    </tr>\n",
       "  </tbody>\n",
       "</table>\n",
       "</div>"
      ],
      "text/plain": [
       "          vote             couple  n_tweets_perc     score  true_bottom  \\\n",
       "1   2019-06-26        molly_tommy       0.141843  0.053339        False   \n",
       "2   2019-06-26          maura_tom       0.067344 -0.002573         True   \n",
       "7   2019-07-12        belle_anton       0.056094  0.129684        False   \n",
       "11  2019-07-12     michael_joanna       0.162483 -0.051027         True   \n",
       "15  2019-07-19  michael_francesca       0.004384  0.220109         True   \n",
       "16  2019-07-19        molly_tommy       0.126299  0.100473        False   \n",
       "18  2019-07-19        belle_anton       0.156492 -0.008484        False   \n",
       "19  2019-07-19        anna_jordan       0.077808  0.046095         True   \n",
       "21  2019-07-23        anna_jordan       0.281446  0.044046         True   \n",
       "22  2019-07-23        molly_tommy       0.124610  0.161529        False   \n",
       "\n",
       "    pred_bottom  pred_v_share  pred_order  \n",
       "1          True      1.091925           7  \n",
       "2         False      6.490263           2  \n",
       "7          True      3.835828           6  \n",
       "11        False      5.444483           4  \n",
       "15        False     12.177530           2  \n",
       "16         True      2.015687           6  \n",
       "18         True      2.537478           5  \n",
       "19        False      2.708437           4  \n",
       "21        False     11.058023           4  \n",
       "22         True      6.480879           6  "
      ]
     },
     "execution_count": 112,
     "metadata": {},
     "output_type": "execute_result"
    }
   ],
   "source": [
    "pred_df = get_predictions(req, agg_df_5)\n",
    "pred_df, final_df = split_df(pred_df)\n",
    "pred_df = find_accuracy(pred_df)\n",
    "\n",
    "print(\"Model Accuracy:\", accuracy_score(pred_df[\"true_bottom\"], pred_df[\"pred_bottom\"]))\n",
    "pred_df[pred_df[\"pred_bottom\"] != pred_df[\"true_bottom\"]]"
   ]
  },
  {
   "cell_type": "markdown",
   "metadata": {},
   "source": [
    "Finally, what everyone is really reading this for...predicting the winner! We only went and got it right!! We did however get the 2nd and 3rd place the wrong way round. When interpreting these results is important to remember that the predicted vote share is not capped and therefore the total can (and clearly does here) add up to more than 100%, give its relative we see that Amber and Greg have over double the predicted share as the next largest and given what we know about the model coefficients this suggest a huge number of very positive tweets in comparison to the other couples. "
   ]
  },
  {
   "cell_type": "code",
   "execution_count": 113,
   "metadata": {},
   "outputs": [
    {
     "data": {
      "text/html": [
       "<div>\n",
       "<style scoped>\n",
       "    .dataframe tbody tr th:only-of-type {\n",
       "        vertical-align: middle;\n",
       "    }\n",
       "\n",
       "    .dataframe tbody tr th {\n",
       "        vertical-align: top;\n",
       "    }\n",
       "\n",
       "    .dataframe thead th {\n",
       "        text-align: right;\n",
       "    }\n",
       "</style>\n",
       "<table border=\"1\" class=\"dataframe\">\n",
       "  <thead>\n",
       "    <tr style=\"text-align: right;\">\n",
       "      <th></th>\n",
       "      <th>couple</th>\n",
       "      <th>n_tweets_perc</th>\n",
       "      <th>score</th>\n",
       "      <th>pred_v_share</th>\n",
       "      <th>pred_order</th>\n",
       "    </tr>\n",
       "  </thead>\n",
       "  <tbody>\n",
       "    <tr>\n",
       "      <th>21</th>\n",
       "      <td>amber_greg</td>\n",
       "      <td>0.272959</td>\n",
       "      <td>0.387364</td>\n",
       "      <td>89.716452</td>\n",
       "      <td>1</td>\n",
       "    </tr>\n",
       "    <tr>\n",
       "      <th>25</th>\n",
       "      <td>india_ovie</td>\n",
       "      <td>0.267766</td>\n",
       "      <td>0.243724</td>\n",
       "      <td>40.749755</td>\n",
       "      <td>2</td>\n",
       "    </tr>\n",
       "    <tr>\n",
       "      <th>7</th>\n",
       "      <td>molly_tommy</td>\n",
       "      <td>0.243338</td>\n",
       "      <td>0.224422</td>\n",
       "      <td>30.994138</td>\n",
       "      <td>3</td>\n",
       "    </tr>\n",
       "    <tr>\n",
       "      <th>11</th>\n",
       "      <td>maura_curtis</td>\n",
       "      <td>0.385357</td>\n",
       "      <td>0.031927</td>\n",
       "      <td>29.279050</td>\n",
       "      <td>4</td>\n",
       "    </tr>\n",
       "  </tbody>\n",
       "</table>\n",
       "</div>"
      ],
      "text/plain": [
       "          couple  n_tweets_perc     score  pred_v_share  pred_order\n",
       "21    amber_greg       0.272959  0.387364     89.716452           1\n",
       "25    india_ovie       0.267766  0.243724     40.749755           2\n",
       "7    molly_tommy       0.243338  0.224422     30.994138           3\n",
       "11  maura_curtis       0.385357  0.031927     29.279050           4"
      ]
     },
     "execution_count": 113,
     "metadata": {},
     "output_type": "execute_result"
    }
   ],
   "source": [
    "final_df[[\"couple\", 'n_tweets_perc', 'score', \"pred_v_share\", \"pred_order\"]].sort_values(\"pred_order\")"
   ]
  }
 ],
 "metadata": {
  "kernelspec": {
   "display_name": "lovei",
   "language": "python",
   "name": "lovei"
  },
  "language_info": {
   "codemirror_mode": {
    "name": "ipython",
    "version": 3
   },
   "file_extension": ".py",
   "mimetype": "text/x-python",
   "name": "python",
   "nbconvert_exporter": "python",
   "pygments_lexer": "ipython3",
   "version": "3.6.0"
  }
 },
 "nbformat": 4,
 "nbformat_minor": 2
}
